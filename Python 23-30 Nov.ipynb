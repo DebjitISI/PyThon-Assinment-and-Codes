{
 "cells": [
  {
   "cell_type": "code",
   "execution_count": 1,
   "metadata": {},
   "outputs": [],
   "source": [
    "#linear search  \n",
    "import numpy as np"
   ]
  },
  {
   "cell_type": "markdown",
   "metadata": {},
   "source": [
    "### Linear Search"
   ]
  },
  {
   "cell_type": "code",
   "execution_count": 9,
   "metadata": {},
   "outputs": [
    {
     "name": "stdout",
     "output_type": "stream",
     "text": [
      "The element was present in the array at position 2\n"
     ]
    }
   ],
   "source": [
    "n=int(input(\"Enter the length of array\"))\n",
    "def linear_search(arr,target):\n",
    "    for i in range(n):\n",
    "        if(arr[i]==target):\n",
    "            return i\n",
    "    return -1\n",
    "arr=[]\n",
    "for j in range(n):\n",
    "    element=int(input(f\"Enter the element at position {j+1}\"))\n",
    "    arr.append(element)\n",
    "\n",
    "target=int(input(\"Enter the value you want to find\"))\n",
    "\n",
    "result=linear_search(arr,target)\n",
    "if(result != -1):\n",
    "    print(f\"The element was present in the array at position {result}\")\n",
    "else:\n",
    "    print(\"The element was NOT present in the array\")"
   ]
  },
  {
   "cell_type": "markdown",
   "metadata": {},
   "source": [
    "### Binary Search"
   ]
  },
  {
   "cell_type": "code",
   "execution_count": null,
   "metadata": {},
   "outputs": [],
   "source": [
    "n=int(input(\"Enter the length of array\"))\n",
    "\n",
    "def binary_search(arr,target):\n",
    "    left=0\n",
    "    right=n-1\n",
    "    mid=0\n",
    "    while (left <= right):\n",
    "        mid=left + (right-left)//2\n",
    "        if (arr[mid] < target):\n",
    "            left = mid + 1\n",
    "        elif (arr[mid] > target):\n",
    "            right = mid - 1\n",
    "        else:\n",
    "            return mid\n",
    "    return -1\n",
    "\n",
    "arr=[]\n",
    "for j in range(n):\n",
    "    element=int(input(f\"Enter the element at position {j+1}\"))\n",
    "    arr.append(element)\n",
    "arr.sort()\n",
    "target=int(input(\"Enter the value you want to find\"))\n",
    "\n",
    "result=binary_search(arr,target)\n",
    "if(result != -1):\n",
    "    print(f\"The element was present in the array at position {result}\")\n",
    "else:\n",
    "    print(\"The element was NOT present in the array\")"
   ]
  },
  {
   "cell_type": "markdown",
   "metadata": {},
   "source": [
    "### Bubble sort"
   ]
  },
  {
   "cell_type": "code",
   "execution_count": null,
   "metadata": {},
   "outputs": [],
   "source": [
    "n=int(input(\"Enter the length of array\"))\n",
    "def bubble_sort(arr):\n",
    "    for j in range(n-1):\n",
    "        for i in range(n-1-j):\n",
    "            if arr[i]>arr[i+1]:\n",
    "                arr[i],arr[i+1]=arr[i+1],arr[i]\n",
    "    return arr            \n",
    "arr=[]\n",
    "for j in range(n):\n",
    "    element=int(input(f\"Enter the element at position {j+1}\"))\n",
    "    arr.append(element)\n",
    "\n",
    "\n",
    "result=bubble_sort(arr)\n",
    "\n",
    "print(\"The sorted array is:\",result)"
   ]
  },
  {
   "cell_type": "code",
   "execution_count": 19,
   "metadata": {},
   "outputs": [
    {
     "name": "stdout",
     "output_type": "stream",
     "text": [
      "Your pin is: 55083\n"
     ]
    }
   ],
   "source": [
    "import random as rn\n",
    "\n",
    "n=int(input(\"Enter the pin length: \"))\n",
    "\n",
    "\n",
    "s=rn.randint(pow(10,n-1),pow(10,n)-1)\n",
    "print(\"Your pin is:\",s)"
   ]
  },
  {
   "cell_type": "code",
   "execution_count": 42,
   "metadata": {},
   "outputs": [
    {
     "name": "stdout",
     "output_type": "stream",
     "text": [
      "Your password is: hib$l_\n"
     ]
    }
   ],
   "source": [
    "\n",
    "import random as rn\n",
    "import string\n",
    "\n",
    "p = ''\n",
    "n=int(input(\"Enter the password length: \"))\n",
    "\n",
    "\n",
    "for i in range(n):\n",
    "    p += rn.choice(string.ascii_letters + string.digits + string.punctuation)\n",
    "q=list(p)\n",
    "rn.shuffle(q)\n",
    "pw=''\n",
    "for c in q:\n",
    "    pw += c\n",
    "pw\n",
    "print(\"Your password is:\", pw)"
   ]
  },
  {
   "cell_type": "markdown",
   "metadata": {},
   "source": [
    "### Dictionaries"
   ]
  },
  {
   "cell_type": "code",
   "execution_count": 50,
   "metadata": {},
   "outputs": [
    {
     "name": "stdout",
     "output_type": "stream",
     "text": [
      "{0: 2, 'Function': 'A piece of code that you can easily call over and over again'}\n",
      "2\n",
      "{0: 2, 'Function': 'A piece of code that you can easily call over and over again', 'Loop': 'Action of doing repeatedly'}\n",
      "{}\n",
      "{}\n"
     ]
    }
   ],
   "source": [
    "#initializing the dictionary\n",
    "programming_definition={\n",
    "    0:2,\n",
    "    \"Function\": \"A piece of code that you can easily call over and over again\"\n",
    "}\n",
    "\n",
    "print(programming_definition)\n",
    "\n",
    "#accessing the element\n",
    "print(programming_definition[0])\n",
    "\n",
    "#Adding a new element\n",
    "programming_definition[\"Loop\"] = \"Action of doing repeatedly\"\n",
    "print(programming_definition)\n",
    "\n",
    "#Empty dictionary\n",
    "empty_dict={}\n",
    "print(empty_dict)\n",
    "\n",
    "#removing an existing dictionary\n",
    "programming_definition={}\n",
    "print(programming_definition)"
   ]
  },
  {
   "cell_type": "code",
   "execution_count": 53,
   "metadata": {},
   "outputs": [
    {
     "name": "stdout",
     "output_type": "stream",
     "text": [
      "{'Bug': 'A erroe that can take place', 'Function': 'A code that dies a specific task'}\n"
     ]
    }
   ],
   "source": [
    "programming_definition={\n",
    "    \"Bug\":\"A erroe that can take place\",\n",
    "    \"Function\": \"A piece of code that you can easily call over and over again\"\n",
    "}\n",
    "#editing\n",
    "programming_definition[\"Function\"]=\"A code that dies a specific task\"\n",
    "print(programming_definition)"
   ]
  },
  {
   "cell_type": "code",
   "execution_count": 54,
   "metadata": {},
   "outputs": [
    {
     "data": {
      "text/plain": [
       "dict_keys(['Bug', 'Function'])"
      ]
     },
     "execution_count": 54,
     "metadata": {},
     "output_type": "execute_result"
    }
   ],
   "source": [
    "programming_definition.keys()"
   ]
  },
  {
   "cell_type": "code",
   "execution_count": 58,
   "metadata": {},
   "outputs": [
    {
     "name": "stdout",
     "output_type": "stream",
     "text": [
      "Bug\n",
      "A erroe that can take place\n",
      "Function\n",
      "A code that dies a specific task\n"
     ]
    }
   ],
   "source": [
    "for key in programming_definition:\n",
    "    print(key)\n",
    "    print(programming_definition[key])"
   ]
  },
  {
   "cell_type": "code",
   "execution_count": 61,
   "metadata": {},
   "outputs": [
    {
     "name": "stdout",
     "output_type": "stream",
     "text": [
      "{'A': 'A+', 'B': 'A+', 'C': 'O', 'D': 'A', 'E': 'F'}\n"
     ]
    }
   ],
   "source": [
    "marks={\n",
    "    \"A\":78,\n",
    "    \"B\":80,\n",
    "    \"C\":92,\n",
    "    \"D\":50,\n",
    "    \"E\":34\n",
    "}\n",
    "\n",
    "rates={}\n",
    "\n",
    "for key in marks:\n",
    "    if(marks[key]>90):\n",
    "        rates[key]=\"O\"\n",
    "    elif(marks[key]>=70):\n",
    "        rates[key]=\"A+\"\n",
    "    elif(marks[key]>=40):\n",
    "        rates[key]=\"A\"\n",
    "    else:\n",
    "        rates[key]=\"F\"\n",
    "\n",
    "print(rates)"
   ]
  },
  {
   "cell_type": "code",
   "execution_count": null,
   "metadata": {},
   "outputs": [],
   "source": [
    "auction={}\n",
    "\n"
   ]
  }
 ],
 "metadata": {
  "kernelspec": {
   "display_name": "Python 3",
   "language": "python",
   "name": "python3"
  },
  "language_info": {
   "codemirror_mode": {
    "name": "ipython",
    "version": 3
   },
   "file_extension": ".py",
   "mimetype": "text/x-python",
   "name": "python",
   "nbconvert_exporter": "python",
   "pygments_lexer": "ipython3",
   "version": "3.12.3"
  }
 },
 "nbformat": 4,
 "nbformat_minor": 2
}
