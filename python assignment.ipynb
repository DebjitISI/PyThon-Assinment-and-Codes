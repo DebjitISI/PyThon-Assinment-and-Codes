{
 "cells": [
  {
   "cell_type": "markdown",
   "metadata": {},
   "source": [
    "### OTP and Password Generation\n"
   ]
  },
  {
   "cell_type": "code",
   "execution_count": null,
   "metadata": {},
   "outputs": [
    {
     "name": "stdout",
     "output_type": "stream",
     "text": [
      "Invalid Choice!!\n"
     ]
    }
   ],
   "source": [
    "import random \n",
    "import string\n",
    "def pin():\n",
    "    n=int(input(\"Enter the length of the OTP\"))\n",
    "    p=''\n",
    "    for i in range(n):\n",
    "        p+=random.choice(string.digits)\n",
    "\n",
    "    q=list(p)\n",
    "    random.shuffle(q)\n",
    "\n",
    "    pw=''\n",
    "    for ele in q:\n",
    "        pw+=ele\n",
    "        \n",
    "    return pw\n",
    "def password():\n",
    "    n=int(input(\"Enter the length of the password\"))\n",
    "    p=''\n",
    "    for i in range(n):\n",
    "        p+=random.choice(string.ascii_letters + string.digits + string.punctuation)\n",
    "\n",
    "    q=list(p)\n",
    "    random.shuffle(q)\n",
    "\n",
    "    pw=''\n",
    "    for ele in q:\n",
    "        pw+=ele\n",
    "        \n",
    "    return pw\n",
    "\n",
    "while (True):\n",
    "    choise=input(\"Enter what you want to generate:[OTP/password]\").lower()\n",
    "    if(choise=='otp'):\n",
    "        result=pin()\n",
    "        print(\"Your generated OTP is:\",result)\n",
    "    elif(choise=='password'):\n",
    "        result=password()\n",
    "        print(\"Your generated password is:\",result)\n",
    "    else:\n",
    "        print(\"Sorry!! For now We can only generate OTP and passwords for you anything except that is still under development.\")\n",
    "    runs=input(\"Do you want to generate more passwords or OTP?[y/n]\")[0].lower()\n",
    "    if(runs =='n'):\n",
    "        break"
   ]
  },
  {
   "cell_type": "markdown",
   "metadata": {},
   "source": [
    "### Auction Records"
   ]
  },
  {
   "cell_type": "code",
   "execution_count": 11,
   "metadata": {},
   "outputs": [
    {
     "name": "stdout",
     "output_type": "stream",
     "text": [
      "Details of Auction of item no. 1\n",
      "{'w': 23, 'rt': 88}\n"
     ]
    }
   ],
   "source": [
    "i=1\n",
    "while(True):\n",
    "   print(f\"Details of Auction of item no. {i}\")\n",
    "   auction={}\n",
    "   s=0\n",
    "   while(True):\n",
    "        name=input(f\"Enter the name of the bidder who bid higher than the last bidder for item no. {i}\")\n",
    "        amt=int(input(\"Enter the amount of bidding: \"))\n",
    "        if(amt>s):\n",
    "            s=amt\n",
    "            auction[name]=amt\n",
    "        else:\n",
    "            continue\n",
    "        round=input(\"Do you want to go for another round?[y/n]\").lower()[0]\n",
    "        if(round=='n'):\n",
    "            break\n",
    "        \n",
    "   print(auction)  \n",
    "   runs=input(\"Do you want to auction another item.?[y/n]\")[0].lower()\n",
    "   if(runs == 'n'):\n",
    "       break\n",
    "   i+=1\n",
    "   "
   ]
  },
  {
   "cell_type": "code",
   "execution_count": null,
   "metadata": {},
   "outputs": [],
   "source": []
  }
 ],
 "metadata": {
  "kernelspec": {
   "display_name": "Python 3",
   "language": "python",
   "name": "python3"
  },
  "language_info": {
   "codemirror_mode": {
    "name": "ipython",
    "version": 3
   },
   "file_extension": ".py",
   "mimetype": "text/x-python",
   "name": "python",
   "nbconvert_exporter": "python",
   "pygments_lexer": "ipython3",
   "version": "3.12.6"
  }
 },
 "nbformat": 4,
 "nbformat_minor": 2
}
