{
 "cells": [
  {
   "cell_type": "markdown",
   "metadata": {},
   "source": [
    "### Truncated Dist.."
   ]
  },
  {
   "cell_type": "code",
   "execution_count": 9,
   "metadata": {},
   "outputs": [
    {
     "name": "stdout",
     "output_type": "stream",
     "text": [
      "0.899993896484375 0.9\n",
      "0.8999969482421875\n"
     ]
    }
   ],
   "source": [
    "import math as mt\n",
    "p1=float(input())\n",
    "p2=float(input())\n",
    "x_br=43.5\n",
    "while(abs(p1-p2)>0.00001):\n",
    "    p=(p1+p2)/2\n",
    "    if((6*p1/(1-mt.pow((1-p1),6))-x_br) * (6*p2/(1-mt.pow((1-p1),6))-x_br)<0):\n",
    "        p2=(p1+p2)/2\n",
    "    else:\n",
    "        p1=(p1+p2)/2\n",
    "\n",
    "p=(p1+p2)/2\n",
    "print(p1,p2)\n",
    "print(p)"
   ]
  },
  {
   "cell_type": "code",
   "execution_count": 11,
   "metadata": {},
   "outputs": [
    {
     "name": "stdout",
     "output_type": "stream",
     "text": [
      "9.999991416931152 10.0\n",
      "9.999995708465576\n"
     ]
    }
   ],
   "source": [
    "p1=float(input())\n",
    "p2=float(input())\n",
    "x_bar=43.5\n",
    "while(abs(p1-p2)>0.00001):\n",
    "    p=(p1+p2)/2\n",
    "    if((p/(1-mt.exp(-p))-x_bar) * (p/(1-mt.exp(-p))-x_bar)<0):\n",
    "        p2=(p1+p2)/2\n",
    "    else:\n",
    "        p1=(p1+p2)/2\n",
    "\n",
    "p=(p1+p2)/2\n",
    "print(p1,p2)\n",
    "print(p)"
   ]
  },
  {
   "cell_type": "code",
   "execution_count": null,
   "metadata": {},
   "outputs": [],
   "source": [
    "\n",
    "from "
   ]
  }
 ],
 "metadata": {
  "kernelspec": {
   "display_name": "Python 3",
   "language": "python",
   "name": "python3"
  },
  "language_info": {
   "codemirror_mode": {
    "name": "ipython",
    "version": 3
   },
   "file_extension": ".py",
   "mimetype": "text/x-python",
   "name": "python",
   "nbconvert_exporter": "python",
   "pygments_lexer": "ipython3",
   "version": "3.12.3"
  }
 },
 "nbformat": 4,
 "nbformat_minor": 2
}
